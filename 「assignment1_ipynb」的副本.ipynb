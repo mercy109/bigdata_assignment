{
  "nbformat": 4,
  "nbformat_minor": 0,
  "metadata": {
    "colab": {
      "name": "「assignment1.ipynb」的副本",
      "provenance": [],
      "collapsed_sections": [],
      "include_colab_link": true
    },
    "kernelspec": {
      "name": "ir",
      "display_name": "R"
    }
  },
  "cells": [
    {
      "cell_type": "markdown",
      "metadata": {
        "id": "view-in-github",
        "colab_type": "text"
      },
      "source": [
        "<a href=\"https://colab.research.google.com/github/mercy109/bigdata_assignment/blob/master/%E3%80%8Cassignment1_ipynb%E3%80%8D%E7%9A%84%E5%89%AF%E6%9C%AC.ipynb\" target=\"_parent\"><img src=\"https://colab.research.google.com/assets/colab-badge.svg\" alt=\"Open In Colab\"/></a>"
      ]
    },
    {
      "cell_type": "code",
      "metadata": {
        "id": "AfpsDAH3WDvN",
        "colab_type": "code",
        "colab": {
          "base_uri": "https://localhost:8080/",
          "height": 34
        },
        "outputId": "512376ec-c87a-4041-e6e5-c50265640d49"
      },
      "source": [
        "class(2)"
      ],
      "execution_count": null,
      "outputs": [
        {
          "output_type": "display_data",
          "data": {
            "text/plain": [
              "[1] \"numeric\""
            ],
            "text/latex": "'numeric'",
            "text/markdown": "'numeric'",
            "text/html": [
              "'numeric'"
            ]
          },
          "metadata": {
            "tags": []
          }
        }
      ]
    },
    {
      "cell_type": "code",
      "metadata": {
        "id": "B6CmztP9XGZb",
        "colab_type": "code",
        "colab": {
          "base_uri": "https://localhost:8080/",
          "height": 34
        },
        "outputId": "47791d68-494e-4bec-e20a-9d49a90a5e15"
      },
      "source": [
        "class(\"HI\")"
      ],
      "execution_count": null,
      "outputs": [
        {
          "output_type": "display_data",
          "data": {
            "text/plain": [
              "[1] \"character\""
            ],
            "text/latex": "'character'",
            "text/markdown": "'character'",
            "text/html": [
              "'character'"
            ]
          },
          "metadata": {
            "tags": []
          }
        }
      ]
    },
    {
      "cell_type": "code",
      "metadata": {
        "id": "CKQBtqRsXb9i",
        "colab_type": "code",
        "colab": {
          "base_uri": "https://localhost:8080/",
          "height": 34
        },
        "outputId": "d1192a5c-dd50-481a-e31b-312862291ce9"
      },
      "source": [
        "8 > 7\n"
      ],
      "execution_count": null,
      "outputs": [
        {
          "output_type": "display_data",
          "data": {
            "text/plain": [
              "[1] TRUE"
            ],
            "text/latex": "TRUE",
            "text/markdown": "TRUE",
            "text/html": [
              "TRUE"
            ]
          },
          "metadata": {
            "tags": []
          }
        }
      ]
    },
    {
      "cell_type": "code",
      "metadata": {
        "id": "PQmoFNPYXex_",
        "colab_type": "code",
        "colab": {
          "base_uri": "https://localhost:8080/",
          "height": 34
        },
        "outputId": "4d1b299b-b4a1-47a4-c312-3adc10b91965"
      },
      "source": [
        "8 + 7"
      ],
      "execution_count": null,
      "outputs": [
        {
          "output_type": "display_data",
          "data": {
            "text/plain": [
              "[1] 15"
            ],
            "text/latex": "15",
            "text/markdown": "15",
            "text/html": [
              "15"
            ]
          },
          "metadata": {
            "tags": []
          }
        }
      ]
    },
    {
      "cell_type": "code",
      "metadata": {
        "id": "njx5eCVwYHBS",
        "colab_type": "code",
        "colab": {}
      },
      "source": [
        "my_H <- 170"
      ],
      "execution_count": null,
      "outputs": []
    },
    {
      "cell_type": "code",
      "metadata": {
        "id": "Maa6IGaYYLuz",
        "colab_type": "code",
        "colab": {}
      },
      "source": [
        "my_W <- 70"
      ],
      "execution_count": null,
      "outputs": []
    },
    {
      "cell_type": "code",
      "metadata": {
        "id": "BTiqO9hSYUZq",
        "colab_type": "code",
        "colab": {}
      },
      "source": [
        "my_BMI = my_W/(my_H/100)/(my_H/100)"
      ],
      "execution_count": null,
      "outputs": []
    },
    {
      "cell_type": "code",
      "metadata": {
        "id": "uDcIknR7c7E2",
        "colab_type": "code",
        "colab": {
          "base_uri": "https://localhost:8080/",
          "height": 34
        },
        "outputId": "07a12c4e-cbfe-45aa-a039-10530250b97e"
      },
      "source": [
        "my_BMI"
      ],
      "execution_count": null,
      "outputs": [
        {
          "output_type": "display_data",
          "data": {
            "text/plain": [
              "[1] 24.22145"
            ],
            "text/latex": "24.2214532871972",
            "text/markdown": "24.2214532871972",
            "text/html": [
              "24.2214532871972"
            ]
          },
          "metadata": {
            "tags": []
          }
        }
      ]
    },
    {
      "cell_type": "code",
      "metadata": {
        "id": "ArYrWfVCY9wk",
        "colab_type": "code",
        "colab": {}
      },
      "source": [
        "first_name <- \"YiChia\""
      ],
      "execution_count": null,
      "outputs": []
    },
    {
      "cell_type": "code",
      "metadata": {
        "id": "APiigI1sZH6q",
        "colab_type": "code",
        "colab": {
          "base_uri": "https://localhost:8080/",
          "height": 34
        },
        "outputId": "2c9d1f0f-6f0c-4302-e55b-8d2a1da8ed0d"
      },
      "source": [
        "first_name"
      ],
      "execution_count": null,
      "outputs": [
        {
          "output_type": "display_data",
          "data": {
            "text/plain": [
              "[1] \"YiChia\""
            ],
            "text/latex": "'YiChia'",
            "text/markdown": "'YiChia'",
            "text/html": [
              "'YiChia'"
            ]
          },
          "metadata": {
            "tags": []
          }
        }
      ]
    },
    {
      "cell_type": "code",
      "metadata": {
        "id": "F0k9yxU3bNuM",
        "colab_type": "code",
        "colab": {
          "base_uri": "https://localhost:8080/",
          "height": 34
        },
        "outputId": "fa33a44b-fe9a-45e1-ac5a-cdd300d43601"
      },
      "source": [
        "paste0(\"我的身高\",my_H)"
      ],
      "execution_count": null,
      "outputs": [
        {
          "output_type": "display_data",
          "data": {
            "text/plain": [
              "[1] \"我的身高170\""
            ],
            "text/latex": "'我的身高170'",
            "text/markdown": "'我的身高170'",
            "text/html": [
              "'我的身高170'"
            ]
          },
          "metadata": {
            "tags": []
          }
        }
      ]
    },
    {
      "cell_type": "code",
      "metadata": {
        "id": "Yeu8w1AnbfKx",
        "colab_type": "code",
        "colab": {
          "base_uri": "https://localhost:8080/",
          "height": 34
        },
        "outputId": "1ce8e905-bc93-4456-b936-504e7a10dcef"
      },
      "source": [
        "paste0(\"我的名字是\",first_name,\"我的身高是\",my_H,\"我的體重是\",my_W,\"我的BMI是\",my_BMI)"
      ],
      "execution_count": null,
      "outputs": [
        {
          "output_type": "display_data",
          "data": {
            "text/plain": [
              "[1] \"我的名字是YiChia我的身高是170我的體重是70我的BMI是24.2214532871972\""
            ],
            "text/latex": "'我的名字是YiChia我的身高是170我的體重是70我的BMI是24.2214532871972'",
            "text/markdown": "'我的名字是YiChia我的身高是170我的體重是70我的BMI是24.2214532871972'",
            "text/html": [
              "'我的名字是YiChia我的身高是170我的體重是70我的BMI是24.2214532871972'"
            ]
          },
          "metadata": {
            "tags": []
          }
        }
      ]
    }
  ]
}